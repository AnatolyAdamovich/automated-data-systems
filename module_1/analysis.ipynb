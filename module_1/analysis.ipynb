{
 "cells": [
  {
   "cell_type": "code",
   "execution_count": 11,
   "metadata": {},
   "outputs": [],
   "source": [
    "from solution.documents_parser import parse_doc_hh_resume, parse_docx_hh_resume, parse_pdf_hh_resume\n",
    "from solution.html_parser import parse_habr_career_html"
   ]
  },
  {
   "cell_type": "code",
   "execution_count": 7,
   "metadata": {},
   "outputs": [
    {
     "data": {
      "text/plain": [
       "{'Email': 'alekander@pushkin.ru',\n",
       " 'City': 'Санкт-Петербург, м. Невский проспект',\n",
       " 'Position': 'Программист, системный администратор, системный инженер',\n",
       " 'Experience': '13 лет 7 месяцев',\n",
       " 'Images': []}"
      ]
     },
     "execution_count": 7,
     "metadata": {},
     "output_type": "execute_result"
    }
   ],
   "source": [
    "parse_pdf_hh_resume(path_to_file='data/resume.pdf')"
   ]
  },
  {
   "cell_type": "code",
   "execution_count": 10,
   "metadata": {},
   "outputs": [
    {
     "data": {
      "text/plain": [
       "{'Email': 'tolik.frnk@yandex.ru',\n",
       " 'City': 'Санкт-Петербург',\n",
       " 'Position': 'middle data analyst / data engineer',\n",
       " 'Experience': '2 года 2 месяца',\n",
       " 'Images': ['pg1_resume_image1.png']}"
      ]
     },
     "execution_count": 10,
     "metadata": {},
     "output_type": "execute_result"
    }
   ],
   "source": [
    "parse_pdf_hh_resume(path_to_file='data/resume2.pdf')"
   ]
  },
  {
   "cell_type": "code",
   "execution_count": 8,
   "metadata": {},
   "outputs": [
    {
     "data": {
      "text/plain": [
       "{'Email': 'alekander@pushkin.ru',\n",
       " 'City': 'Санкт-Петербург, м. Невский проспект',\n",
       " 'Position': 'Программист, системный администратор, системный инженер',\n",
       " 'Experience': '13 лет 7 месяцев'}"
      ]
     },
     "execution_count": 8,
     "metadata": {},
     "output_type": "execute_result"
    }
   ],
   "source": [
    "parse_doc_hh_resume(path_to_file='data/resume.doc')"
   ]
  },
  {
   "cell_type": "code",
   "execution_count": 9,
   "metadata": {},
   "outputs": [
    {
     "data": {
      "text/plain": [
       "{'Email': 'alekander@pushkin.ru',\n",
       " 'City': 'Санкт-Петербург, м. Невский проспект',\n",
       " 'Position': 'Программист, системный администратор, системный инженер',\n",
       " 'Experience': '13 лет 7 месяцев'}"
      ]
     },
     "execution_count": 9,
     "metadata": {},
     "output_type": "execute_result"
    }
   ],
   "source": [
    "parse_docx_hh_resume(path_to_file='data/resume.docx')"
   ]
  },
  {
   "cell_type": "code",
   "execution_count": 12,
   "metadata": {},
   "outputs": [
    {
     "data": {
      "text/html": [
       "<div>\n",
       "<style scoped>\n",
       "    .dataframe tbody tr th:only-of-type {\n",
       "        vertical-align: middle;\n",
       "    }\n",
       "\n",
       "    .dataframe tbody tr th {\n",
       "        vertical-align: top;\n",
       "    }\n",
       "\n",
       "    .dataframe thead th {\n",
       "        text-align: right;\n",
       "    }\n",
       "</style>\n",
       "<table border=\"1\" class=\"dataframe\">\n",
       "  <thead>\n",
       "    <tr style=\"text-align: right;\">\n",
       "      <th></th>\n",
       "      <th>Company Name</th>\n",
       "      <th>Company Rating</th>\n",
       "      <th>Vacancy</th>\n",
       "      <th>Salary</th>\n",
       "    </tr>\n",
       "  </thead>\n",
       "  <tbody>\n",
       "    <tr>\n",
       "      <th>0</th>\n",
       "      <td>ДИТ г. Москвы</td>\n",
       "      <td>Без рейтинга</td>\n",
       "      <td>Специалист по информационной безопасности</td>\n",
       "      <td></td>\n",
       "    </tr>\n",
       "    <tr>\n",
       "      <th>1</th>\n",
       "      <td>Группа Астра</td>\n",
       "      <td>​4.72​</td>\n",
       "      <td>Младший инженер интеграции (Стажировка)</td>\n",
       "      <td></td>\n",
       "    </tr>\n",
       "    <tr>\n",
       "      <th>2</th>\n",
       "      <td>Сбер</td>\n",
       "      <td>​3.82​</td>\n",
       "      <td>Младший аналитик</td>\n",
       "      <td>от 130 000 ₽</td>\n",
       "    </tr>\n",
       "    <tr>\n",
       "      <th>3</th>\n",
       "      <td>ИТ-компания «Лоция»</td>\n",
       "      <td>Без рейтинга</td>\n",
       "      <td>ИТ Сорсер</td>\n",
       "      <td></td>\n",
       "    </tr>\n",
       "    <tr>\n",
       "      <th>4</th>\n",
       "      <td>Fix Price</td>\n",
       "      <td>Без рейтинга</td>\n",
       "      <td>Сетевой инженер</td>\n",
       "      <td>от 85 000 до 90 000 ₽</td>\n",
       "    </tr>\n",
       "    <tr>\n",
       "      <th>...</th>\n",
       "      <td>...</td>\n",
       "      <td>...</td>\n",
       "      <td>...</td>\n",
       "      <td>...</td>\n",
       "    </tr>\n",
       "    <tr>\n",
       "      <th>70</th>\n",
       "      <td>ЦЗН «Моя работа»</td>\n",
       "      <td>Без рейтинга</td>\n",
       "      <td>SMM специалист контент-мейкер</td>\n",
       "      <td>до 120 000 ₽</td>\n",
       "    </tr>\n",
       "    <tr>\n",
       "      <th>71</th>\n",
       "      <td>ГК «Комплексная автоматизация»</td>\n",
       "      <td>Без рейтинга</td>\n",
       "      <td>Младший программист 1С</td>\n",
       "      <td></td>\n",
       "    </tr>\n",
       "    <tr>\n",
       "      <th>72</th>\n",
       "      <td>Digital Consulting Solutions (DCS)</td>\n",
       "      <td>Без рейтинга</td>\n",
       "      <td>Бизнес-аналитик</td>\n",
       "      <td></td>\n",
       "    </tr>\n",
       "    <tr>\n",
       "      <th>73</th>\n",
       "      <td>2UP</td>\n",
       "      <td>​4.73​</td>\n",
       "      <td>Project manager</td>\n",
       "      <td>от 50 000 до 60 000 ₽</td>\n",
       "    </tr>\n",
       "    <tr>\n",
       "      <th>74</th>\n",
       "      <td>Текон</td>\n",
       "      <td>Без рейтинга</td>\n",
       "      <td>Системный администратор Linux</td>\n",
       "      <td>до 200 000 ₽</td>\n",
       "    </tr>\n",
       "  </tbody>\n",
       "</table>\n",
       "<p>75 rows × 4 columns</p>\n",
       "</div>"
      ],
      "text/plain": [
       "                          Company Name Company Rating  \\\n",
       "0                        ДИТ г. Москвы   Без рейтинга   \n",
       "1                         Группа Астра         ​4.72​   \n",
       "2                                 Сбер         ​3.82​   \n",
       "3                  ИТ-компания «Лоция»   Без рейтинга   \n",
       "4                            Fix Price   Без рейтинга   \n",
       "..                                 ...            ...   \n",
       "70                    ЦЗН «Моя работа»   Без рейтинга   \n",
       "71      ГК «Комплексная автоматизация»   Без рейтинга   \n",
       "72  Digital Consulting Solutions (DCS)   Без рейтинга   \n",
       "73                                 2UP         ​4.73​   \n",
       "74                               Текон   Без рейтинга   \n",
       "\n",
       "                                      Vacancy                 Salary  \n",
       "0   Специалист по информационной безопасности                         \n",
       "1     Младший инженер интеграции (Стажировка)                         \n",
       "2                            Младший аналитик           от 130 000 ₽  \n",
       "3                                   ИТ Сорсер                         \n",
       "4                             Сетевой инженер  от 85 000 до 90 000 ₽  \n",
       "..                                        ...                    ...  \n",
       "70              SMM специалист контент-мейкер           до 120 000 ₽  \n",
       "71                     Младший программист 1С                         \n",
       "72                            Бизнес-аналитик                         \n",
       "73                           Project manager   от 50 000 до 60 000 ₽  \n",
       "74              Системный администратор Linux           до 200 000 ₽  \n",
       "\n",
       "[75 rows x 4 columns]"
      ]
     },
     "execution_count": 12,
     "metadata": {},
     "output_type": "execute_result"
    }
   ],
   "source": [
    "parse_habr_career_html(n_pages=3, qid=3, employment_type='full_time')"
   ]
  }
 ],
 "metadata": {
  "kernelspec": {
   "display_name": "venv",
   "language": "python",
   "name": "python3"
  },
  "language_info": {
   "codemirror_mode": {
    "name": "ipython",
    "version": 3
   },
   "file_extension": ".py",
   "mimetype": "text/x-python",
   "name": "python",
   "nbconvert_exporter": "python",
   "pygments_lexer": "ipython3",
   "version": "3.10.12"
  }
 },
 "nbformat": 4,
 "nbformat_minor": 2
}
