{
 "cells": [
  {
   "cell_type": "code",
   "execution_count": 1,
   "metadata": {},
   "outputs": [],
   "source": [
    "import time\n",
    "import pandas as pd\n",
    "from index import InvertedIndex\n",
    "from pympler import asizeof\n",
    "import pickle\n",
    "\n",
    "def get_time(func, *args, **kwargs):\n",
    "    \"\"\"\n",
    "    Вывод времени работы функции\n",
    "    \"\"\"\n",
    "    start = time.time()\n",
    "    res = func(*args, **kwargs)\n",
    "    end = time.time()\n",
    "    func_time = round(end - start, 6)\n",
    "    return res, func_time\n",
    "\n",
    "def get_object_size(some_object):\n",
    "    \"\"\"\n",
    "    Возвращает размер объекта в килобайтах\n",
    "    \"\"\"\n",
    "    size = asizeof.asizeof(some_object) / 1024\n",
    "    return size"
   ]
  },
  {
   "cell_type": "markdown",
   "metadata": {},
   "source": [
    "# Индексирование данных из модуля №2"
   ]
  },
  {
   "cell_type": "code",
   "execution_count": 2,
   "metadata": {},
   "outputs": [
    {
     "data": {
      "text/html": [
       "<div>\n",
       "<style scoped>\n",
       "    .dataframe tbody tr th:only-of-type {\n",
       "        vertical-align: middle;\n",
       "    }\n",
       "\n",
       "    .dataframe tbody tr th {\n",
       "        vertical-align: top;\n",
       "    }\n",
       "\n",
       "    .dataframe thead th {\n",
       "        text-align: right;\n",
       "    }\n",
       "</style>\n",
       "<table border=\"1\" class=\"dataframe\">\n",
       "  <thead>\n",
       "    <tr style=\"text-align: right;\">\n",
       "      <th></th>\n",
       "      <th>Unnamed: 0</th>\n",
       "      <th>id</th>\n",
       "      <th>from_id</th>\n",
       "      <th>date</th>\n",
       "      <th>text</th>\n",
       "      <th>likes</th>\n",
       "      <th>views</th>\n",
       "      <th>reposts</th>\n",
       "      <th>comments</th>\n",
       "      <th>topic</th>\n",
       "    </tr>\n",
       "  </thead>\n",
       "  <tbody>\n",
       "    <tr>\n",
       "      <th>2</th>\n",
       "      <td>2</td>\n",
       "      <td>23050</td>\n",
       "      <td>-140513133</td>\n",
       "      <td>2024-09-02</td>\n",
       "      <td>ПОЗДРАВЛЯЕМ!! \\nАЛЕКСЕЮ ЧАДОВУ 43 ГОДА!! \\nАле...</td>\n",
       "      <td>61</td>\n",
       "      <td>800</td>\n",
       "      <td>4</td>\n",
       "      <td>1</td>\n",
       "      <td>СПБГУ</td>\n",
       "    </tr>\n",
       "  </tbody>\n",
       "</table>\n",
       "</div>"
      ],
      "text/plain": [
       "   Unnamed: 0     id    from_id        date  \\\n",
       "2           2  23050 -140513133  2024-09-02   \n",
       "\n",
       "                                                text  likes  views  reposts  \\\n",
       "2  ПОЗДРАВЛЯЕМ!! \\nАЛЕКСЕЮ ЧАДОВУ 43 ГОДА!! \\nАле...     61    800        4   \n",
       "\n",
       "   comments  topic  \n",
       "2         1  СПБГУ  "
      ]
     },
     "execution_count": 2,
     "metadata": {},
     "output_type": "execute_result"
    }
   ],
   "source": [
    "# загрузка данных и их соединение\n",
    "msu_df = pd.read_csv('../../module_2/data/msu_september.csv')\n",
    "spbgu_df = pd.read_csv('../../module_2/data/spbgu_september.csv')\n",
    "\n",
    "df = pd.concat([msu_df, spbgu_df])\n",
    "df.sample(1)"
   ]
  },
  {
   "cell_type": "code",
   "execution_count": 3,
   "metadata": {},
   "outputs": [],
   "source": [
    "# формируем словарь документов\n",
    "documents = dict(zip(df['id'], df['text'])) "
   ]
  },
  {
   "cell_type": "code",
   "execution_count": 4,
   "metadata": {},
   "outputs": [],
   "source": [
    "# строим индекс\n",
    "index = InvertedIndex()\n",
    "\n",
    "for document_id, text in documents.items():\n",
    "    if type(text) == str:\n",
    "        index.add_document(document_id, text)"
   ]
  },
  {
   "cell_type": "code",
   "execution_count": 5,
   "metadata": {},
   "outputs": [],
   "source": [
    "# сохранение индекса в pickle, чтобы не строить заново каждый раз\n",
    "with open('../data/inverted_index.pkl', 'wb') as f:\n",
    "    pickle.dump(index, f)   "
   ]
  },
  {
   "cell_type": "markdown",
   "metadata": {},
   "source": [
    "## Поиск в простом инвертированном индексе"
   ]
  },
  {
   "cell_type": "code",
   "execution_count": 6,
   "metadata": {},
   "outputs": [
    {
     "name": "stdout",
     "output_type": "stream",
     "text": [
      "Размер простого индекса:  57223.84375\n"
     ]
    }
   ],
   "source": [
    "with open('../data/inverted_index.pkl', 'rb') as f:\n",
    "    index = pickle.load(f)  \n",
    "\n",
    "print('Размер простого индекса: ', get_object_size(index.get_index()))"
   ]
  },
  {
   "cell_type": "code",
   "execution_count": 7,
   "metadata": {},
   "outputs": [
    {
     "name": "stdout",
     "output_type": "stream",
     "text": [
      "Время поиска <Ректор СПБГУ> в простом индексе - 0.010204\n",
      "Время поиска <Ректор МГУ> в простом индексе - 0.002434\n"
     ]
    }
   ],
   "source": [
    "# Поиск\n",
    "query_spb = \"Ректор СПБГУ\"\n",
    "query_msu = \"Ректор МГУ\"\n",
    "\n",
    "result_spb, time_of_complete_spb = get_time(index.search, query_spb)\n",
    "result_msu, time_of_complete_msu = get_time(index.search, query_msu)\n",
    "\n",
    "print(f'Время поиска <{query_spb}> в простом индексе - {time_of_complete_spb}')\n",
    "print(f'Время поиска <{query_msu}> в простом индексе - {time_of_complete_msu}')"
   ]
  },
  {
   "cell_type": "code",
   "execution_count": 8,
   "metadata": {},
   "outputs": [
    {
     "name": "stdout",
     "output_type": "stream",
     "text": [
      "Документы, содержащие <Ректор СПБГУ>: [3586, 102788, 1542, 5646, 3599, 428688, 3862, 16023, 5144, 3478, 2586, 6938, 15654, 1451, 4912, 946, 2483, 1589, 949, 4791, 1215, 8768, 2368, 61131, 19532, 337, 1235, 1236, 2134, 1238, 473, 8412, 11373, 110, 4856, 763, 11133, 2431]\n",
      "Всего их - 38\n",
      "\n",
      "Документы, содержащие <Ректор МГУ>: [2560, 5646, 3599, 2584, 5144, 12312, 2586, 3616, 2596, 261672, 455211, 22066, 24634, 8768, 4164, 46150, 8268, 144974, 4177, 2133, 8280, 19046, 112, 15484, 7808, 1667, 9863, 21128, 18568, 4747, 142, 428688, 145, 2194, 658, 148, 2200, 1689, 4248, 1692, 8860, 24734, 3755, 4791, 2744, 184, 30393, 6843, 91324, 17083, 30394, 13510, 9928, 5321, 37076, 213, 37078, 1238, 48347, 23260, 8924, 8926, 1761, 48355, 1767, 3816, 5865, 27379, 2805, 17653, 4856, 763, 32512, 6919, 5897, 20235, 11545, 2331, 54555, 18206, 16159, 143650, 2339, 807, 20264, 2345, 4912, 1845, 15669, 1856, 15683, 23368, 333, 6479, 6480, 337, 13138, 5462, 130398, 3946, 34172, 102788, 3478, 143255, 34202, 1435, 66974, 183712, 56224, 8100, 24486, 935, 455083, 947, 949, 1465, 1472, 1473, 43971, 28612, 23503, 30163, 6102, 67034, 4573]\n",
      "Всего их - 125\n"
     ]
    }
   ],
   "source": [
    "print(f\"Документы, содержащие <{query_spb}>: {result_spb}\")\n",
    "print(f\"Всего их - {len(result_spb)}\")\n",
    "\n",
    "print()\n",
    "\n",
    "print(f\"Документы, содержащие <{query_msu}>: {result_msu}\")\n",
    "print(f\"Всего их - {len(result_msu)}\")"
   ]
  },
  {
   "cell_type": "code",
   "execution_count": 9,
   "metadata": {},
   "outputs": [
    {
     "name": "stdout",
     "output_type": "stream",
     "text": [
      "Документ 3586: Документ в рамках Восточного экономического форума подписали\n",
      "ректор ЗабГУ Оксана Олеговна Мартыненко и проректор по научной работе СПбГУ\n",
      "Сергей Владимирович Микушев. \n",
      "\n",
      "Санкт-Петербургский государственный университет и\n",
      "Забайкальский государственный университет займутся разработкой сетевых\n",
      "образовательных программ для подготовки инженеров. Также вузы будут совместно\n",
      "готовить специалистов в области международных отношений, экономики и\n",
      "востоковедения. Партнеры договорились вместе организовывать академические и\n",
      "научные мероприятия, образовательные программы и курсы.\n",
      " “СПбГУ - ведущий университет России,  один из флагманов мировой науки и высшего\n",
      "образования. Мощь и потенциал СПбГУ охватывает огромный спектр предметных\n",
      "областей. Соглашение о сотрудничестве ЗабГУ с СПбГУ открывает новые возможности\n",
      "для развития всех факультетов и кафедр нашего университета. Сегодня мы начинаем\n",
      "сотрудничество с передовой инженерной школой СПбГУ в области геологии и горного\n",
      "дела, договорились о совместной работе по подготовке специалистов в области\n",
      "международных отношений,  экономики,\n",
      "востоковедения”,  —; отметила ректор ЗабГУ\n",
      "Оксана Олеговна Мартыненко.\n",
      " \n",
      "В рамках соглашения университеты проведут совместны..\n"
     ]
    }
   ],
   "source": [
    "# пример\n",
    "for doc_id in result_spb:\n",
    "    print(f\"Документ {doc_id}: {index.get_document(doc_id)}\")\n",
    "    break"
   ]
  },
  {
   "cell_type": "markdown",
   "metadata": {},
   "source": [
    "## Сжатие гамма-кодированием и поиск"
   ]
  },
  {
   "cell_type": "code",
   "execution_count": 10,
   "metadata": {},
   "outputs": [],
   "source": [
    "with open('../data/inverted_index.pkl', 'rb') as f:\n",
    "    index = pickle.load(f)   "
   ]
  },
  {
   "cell_type": "code",
   "execution_count": 11,
   "metadata": {},
   "outputs": [
    {
     "name": "stdout",
     "output_type": "stream",
     "text": [
      "Время сжатия: 1.00948\n"
     ]
    }
   ],
   "source": [
    "res, time_of_complete = get_time(index.compress_index, 'gamma')\n",
    "print('Время сжатия:', time_of_complete)"
   ]
  },
  {
   "cell_type": "code",
   "execution_count": 12,
   "metadata": {},
   "outputs": [
    {
     "name": "stdout",
     "output_type": "stream",
     "text": [
      "Размер сжатого гамма-кодированием индекса:  16514.0390625\n"
     ]
    }
   ],
   "source": [
    "print('Размер сжатого гамма-кодированием индекса: ', get_object_size(index.get_index()))"
   ]
  },
  {
   "cell_type": "code",
   "execution_count": 13,
   "metadata": {},
   "outputs": [
    {
     "name": "stdout",
     "output_type": "stream",
     "text": [
      "Время поиска <Ректор СПБГУ> в сжатом гамма-кодированием индексе - 0.014707\n",
      "Время поиска <Ректор МГУ> в сжатом гамма-кодированием индексе - 0.0428\n"
     ]
    }
   ],
   "source": [
    "# Поиск\n",
    "query_spb = \"Ректор СПБГУ\"\n",
    "query_msu = \"Ректор МГУ\"\n",
    "\n",
    "result_spb, time_of_complete_spb = get_time(index.search, query_spb)\n",
    "result_msu, time_of_complete_msu = get_time(index.search, query_msu)\n",
    "\n",
    "print(f'Время поиска <{query_spb}> в сжатом гамма-кодированием индексе - {time_of_complete_spb}')\n",
    "print(f'Время поиска <{query_msu}> в сжатом гамма-кодированием индексе - {time_of_complete_msu}')"
   ]
  },
  {
   "cell_type": "code",
   "execution_count": 14,
   "metadata": {},
   "outputs": [
    {
     "name": "stdout",
     "output_type": "stream",
     "text": [
      "Документы, содержащие <Ректор СПБГУ>: [3586, 102788, 1542, 5646, 3599, 428688, 3862, 16023, 5144, 3478, 2586, 6938, 15654, 1451, 4912, 946, 2483, 1589, 949, 4791, 1215, 8768, 2368, 61131, 19532, 337, 1235, 1236, 2134, 1238, 473, 8412, 11373, 110, 4856, 763, 11133, 2431]\n",
      "Всего их - 38\n",
      "\n",
      "Документы, содержащие <Ректор МГУ>: [2560, 5646, 3599, 2584, 5144, 12312, 2586, 3616, 2596, 261672, 455211, 22066, 24634, 8768, 4164, 46150, 8268, 144974, 4177, 2133, 8280, 19046, 112, 15484, 7808, 1667, 9863, 21128, 18568, 4747, 142, 428688, 145, 2194, 658, 148, 2200, 1689, 4248, 1692, 8860, 24734, 3755, 4791, 2744, 184, 30393, 6843, 91324, 17083, 30394, 13510, 9928, 5321, 37076, 213, 37078, 1238, 48347, 23260, 8924, 8926, 1761, 48355, 1767, 3816, 5865, 27379, 2805, 17653, 4856, 763, 32512, 6919, 5897, 20235, 11545, 2331, 54555, 18206, 16159, 143650, 2339, 807, 20264, 2345, 4912, 1845, 15669, 1856, 15683, 23368, 333, 6479, 6480, 337, 13138, 5462, 130398, 3946, 34172, 102788, 3478, 143255, 34202, 1435, 66974, 183712, 56224, 8100, 24486, 935, 455083, 947, 949, 1465, 1472, 1473, 43971, 28612, 23503, 30163, 6102, 67034, 4573]\n",
      "Всего их - 125\n"
     ]
    }
   ],
   "source": [
    "print(f\"Документы, содержащие <{query_spb}>: {result_spb}\")\n",
    "print(f\"Всего их - {len(result_spb)}\")\n",
    "\n",
    "print()\n",
    "\n",
    "print(f\"Документы, содержащие <{query_msu}>: {result_msu}\")\n",
    "print(f\"Всего их - {len(result_msu)}\")"
   ]
  },
  {
   "cell_type": "markdown",
   "metadata": {},
   "source": [
    "## Сжатие дельта-кодированием и поиск"
   ]
  },
  {
   "cell_type": "code",
   "execution_count": 15,
   "metadata": {},
   "outputs": [],
   "source": [
    "with open('../data/inverted_index.pkl', 'rb') as f:\n",
    "    index = pickle.load(f)   "
   ]
  },
  {
   "cell_type": "code",
   "execution_count": 16,
   "metadata": {},
   "outputs": [
    {
     "name": "stdout",
     "output_type": "stream",
     "text": [
      "Время сжатия: 2.447611\n"
     ]
    }
   ],
   "source": [
    "res, time_of_complete = get_time(index.compress_index, 'delta')\n",
    "print('Время сжатия:', time_of_complete)"
   ]
  },
  {
   "cell_type": "code",
   "execution_count": 17,
   "metadata": {},
   "outputs": [
    {
     "name": "stdout",
     "output_type": "stream",
     "text": [
      "Размер сжатого дельта-кодированием индекса:  15570.34375\n"
     ]
    }
   ],
   "source": [
    "print('Размер сжатого дельта-кодированием индекса: ', get_object_size(index.get_index()))"
   ]
  },
  {
   "cell_type": "code",
   "execution_count": 20,
   "metadata": {},
   "outputs": [
    {
     "name": "stdout",
     "output_type": "stream",
     "text": [
      "Время поиска <Ректор СПБГУ> в сжатом дельта-кодированием индексе - 0.02048\n",
      "Время поиска <Ректор МГУ> в сжатом дельта-кодированием индексе - 0.052921\n"
     ]
    }
   ],
   "source": [
    "# Поиск\n",
    "query_spb = \"Ректор СПБГУ\"\n",
    "query_msu = \"Ректор МГУ\"\n",
    "\n",
    "result_spb, time_of_complete_spb = get_time(index.search, query_spb)\n",
    "result_msu, time_of_complete_msu = get_time(index.search, query_msu)\n",
    "\n",
    "print(f'Время поиска <{query_spb}> в сжатом дельта-кодированием индексе - {time_of_complete_spb}')\n",
    "print(f'Время поиска <{query_msu}> в сжатом дельта-кодированием индексе - {time_of_complete_msu}')"
   ]
  },
  {
   "cell_type": "code",
   "execution_count": 19,
   "metadata": {},
   "outputs": [
    {
     "name": "stdout",
     "output_type": "stream",
     "text": [
      "Документы, содержащие <Ректор СПБГУ>: [3586, 102788, 1542, 5646, 3599, 428688, 3862, 16023, 5144, 3478, 2586, 6938, 15654, 1451, 4912, 946, 2483, 1589, 949, 4791, 1215, 8768, 2368, 61131, 19532, 337, 1235, 1236, 2134, 1238, 473, 8412, 11373, 110, 4856, 763, 11133, 2431]\n",
      "Всего их - 38\n",
      "\n",
      "Документы, содержащие <Ректор МГУ>: [2560, 5646, 3599, 2584, 5144, 12312, 2586, 3616, 2596, 261672, 455211, 22066, 24634, 8768, 4164, 46150, 8268, 144974, 4177, 2133, 8280, 19046, 112, 15484, 7808, 1667, 9863, 21128, 18568, 4747, 142, 428688, 145, 2194, 658, 148, 2200, 1689, 4248, 1692, 8860, 24734, 3755, 4791, 2744, 184, 30393, 6843, 91324, 17083, 30394, 13510, 9928, 5321, 37076, 213, 37078, 1238, 48347, 23260, 8924, 8926, 1761, 48355, 1767, 3816, 5865, 27379, 2805, 17653, 4856, 763, 32512, 6919, 5897, 20235, 11545, 2331, 54555, 18206, 16159, 143650, 2339, 807, 20264, 2345, 4912, 1845, 15669, 1856, 15683, 23368, 333, 6479, 6480, 337, 13138, 5462, 130398, 3946, 34172, 102788, 3478, 143255, 34202, 1435, 66974, 183712, 56224, 8100, 24486, 935, 455083, 947, 949, 1465, 1472, 1473, 43971, 28612, 23503, 30163, 6102, 67034, 4573]\n",
      "Всего их - 125\n"
     ]
    }
   ],
   "source": [
    "print(f\"Документы, содержащие <{query_spb}>: {result_spb}\")\n",
    "print(f\"Всего их - {len(result_spb)}\")\n",
    "\n",
    "print()\n",
    "\n",
    "print(f\"Документы, содержащие <{query_msu}>: {result_msu}\")\n",
    "print(f\"Всего их - {len(result_msu)}\")"
   ]
  }
 ],
 "metadata": {
  "kernelspec": {
   "display_name": "venv",
   "language": "python",
   "name": "python3"
  },
  "language_info": {
   "codemirror_mode": {
    "name": "ipython",
    "version": 3
   },
   "file_extension": ".py",
   "mimetype": "text/x-python",
   "name": "python",
   "nbconvert_exporter": "python",
   "pygments_lexer": "ipython3",
   "version": "3.10.12"
  }
 },
 "nbformat": 4,
 "nbformat_minor": 2
}
