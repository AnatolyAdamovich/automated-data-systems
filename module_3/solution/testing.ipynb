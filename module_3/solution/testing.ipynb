{
 "cells": [
  {
   "cell_type": "markdown",
   "metadata": {},
   "source": [
    "# Простейшая модель инвертированного индекса\n",
    "\n",
    "Блокнот содержит:\n",
    "- тестирование реализованного инвертированного индекса, реализованных алгоритмов сжатия\n",
    "- использование индекса на данных, полученных в модуле 2\n",
    "- использование индекса с алгоритмами сжатия\n",
    "- сравнение эффективности"
   ]
  },
  {
   "cell_type": "code",
   "execution_count": 2,
   "metadata": {},
   "outputs": [],
   "source": [
    "from index import InvertedIndex\n",
    "from coding import EliasCoder"
   ]
  },
  {
   "cell_type": "code",
   "execution_count": 9,
   "metadata": {},
   "outputs": [],
   "source": [
    "from pympler import asizeof"
   ]
  },
  {
   "cell_type": "markdown",
   "metadata": {},
   "source": [
    "## Тестирование реализации индекса\n",
    "- токенизация ✔\n",
    "- лемматизация ✔\n",
    "- индексирование ✔\n",
    "- поиск ✔"
   ]
  },
  {
   "cell_type": "code",
   "execution_count": 17,
   "metadata": {},
   "outputs": [],
   "source": [
    "index_test = InvertedIndex()"
   ]
  },
  {
   "cell_type": "code",
   "execution_count": 4,
   "metadata": {},
   "outputs": [
    {
     "name": "stdout",
     "output_type": "stream",
     "text": [
      "Математика — это наука о числах, формах и закономерностях.\n",
      "После разбиения на токены: ['математика', 'это', 'наука', 'о', 'числах', 'формах', 'и', 'закономерностях']\n",
      "После разбиения на токены: ['математик', 'это', 'наука', 'число', 'форма', 'закономерность']\n"
     ]
    }
   ],
   "source": [
    "sentence = 'Математика — это наука о числах, формах и закономерностях.'\n",
    "print(sentence)\n",
    "\n",
    "tokenized_sentence = index_test._tokenize(text=sentence)\n",
    "print('После разбиения на токены:', tokenized_sentence)\n",
    "\n",
    "lemmatized_sentence = index_test._lemmatize(tokens=tokenized_sentence)\n",
    "print('После разбиения на токены:', lemmatized_sentence)"
   ]
  },
  {
   "cell_type": "code",
   "execution_count": 18,
   "metadata": {},
   "outputs": [
    {
     "data": {
      "text/plain": [
       "<index.InvertedIndex at 0x7f0f7c3b46d0>"
      ]
     },
     "execution_count": 18,
     "metadata": {},
     "output_type": "execute_result"
    }
   ],
   "source": [
    "# индексирование\n",
    "# 10 предложений для тестирования сгенерированы с помощью LLM\n",
    "index_test.add_document(1, \"Математика — это наука о числах, формах и закономерностях.\")\n",
    "index_test.add_document(2, \"Пифагорова теорема описывает связь между сторонами прямоугольного треугольника.\")\n",
    "index_test.add_document(3, \"Алгебра изучает операции и отношения между числами.\")\n",
    "index_test.add_document(4, \"Геометрия исследует свойства фигур и пространственные отношения.\")\n",
    "index_test.add_document(5, \"Калькулятор помогает выполнять сложные математические вычисления.\")\n",
    "index_test.add_document(6, \"Интегралы и производные являются основными понятиями в математическом анализе.\")\n",
    "index_test.add_document(7, \"Статистика позволяет анализировать и интерпретировать данные.\")\n",
    "index_test.add_document(8, \"Теория вероятностей изучает случайные события и их закономерности.\")\n",
    "index_test.add_document(9, \"Математическая логика формулирует правила и принципы рассуждения.\")\n",
    "index_test.add_document(10, \"Функции связывают элементы одного множества с элементами другого множества.\")\n",
    "\n",
    "index_test"
   ]
  },
  {
   "cell_type": "code",
   "execution_count": 4,
   "metadata": {},
   "outputs": [
    {
     "name": "stdout",
     "output_type": "stream",
     "text": [
      "Документы, содержащие изучает: [8, 3]\n",
      "Документ 8:\n",
      "Теория вероятностей изучает случайные события и их закономерности.\n",
      "\n",
      "Документ 3:\n",
      "Алгебра изучает операции и отношения между числами.\n",
      "\n"
     ]
    }
   ],
   "source": [
    "# поиск\n",
    "query = \"изучает\"\n",
    "results = index_test.search(query)\n",
    "print(f\"Документы, содержащие {query}: {results}\")\n",
    "\n",
    "# извлечение документа\n",
    "for doc_id in results:\n",
    "    print(f\"Документ {doc_id}:\\n{index_test.get_document(doc_id)}\\n\")"
   ]
  },
  {
   "cell_type": "markdown",
   "metadata": {},
   "source": [
    "## Тестирование реализации гамма/дельта кодирования/декодирования Элиаса\n",
    "\n",
    "- гамма-кодирование ✔\n",
    "- гамма-декодирование ✔\n",
    "- дельта-кодирование ✔\n",
    "- дельта-декодирование ✔"
   ]
  },
  {
   "cell_type": "code",
   "execution_count": 2,
   "metadata": {},
   "outputs": [],
   "source": [
    "coder = EliasCoder()"
   ]
  },
  {
   "cell_type": "code",
   "execution_count": 3,
   "metadata": {},
   "outputs": [
    {
     "name": "stdout",
     "output_type": "stream",
     "text": [
      "Число 15, гамма-представление: 0001111\n",
      "Число 19, гамма-представление: 000010011\n",
      "Число 25, гамма-представление: 000011001\n",
      "Число 27, гамма-представление: 000011011\n"
     ]
    }
   ],
   "source": [
    "# гамма-кодирование\n",
    "for number in [15, 19, 25, 27]: # 0001111 000010011 000011001 000011011\n",
    "    gamma_number = coder.gamma_encoding(number)\n",
    "    print(f'Число {number}, гамма-представление: {gamma_number}')"
   ]
  },
  {
   "cell_type": "code",
   "execution_count": 5,
   "metadata": {},
   "outputs": [
    {
     "name": "stdout",
     "output_type": "stream",
     "text": [
      "Число 109828, гамма-декодированное число: 109828\n",
      "Число 20929, гамма-декодированное число: 20929\n",
      "Число 2010, гамма-декодированное число: 2010\n",
      "Число 1, гамма-декодированное число: 1\n"
     ]
    }
   ],
   "source": [
    "# гамма-декодирование\n",
    "for number in [109828, 20929, 2010, 1]: \n",
    "    gamma_decoded_number = coder.gamma_decoding(coder.gamma_encoding(number))\n",
    "    print(f'Число {number}, гамма-декодированное число: {gamma_decoded_number}')"
   ]
  },
  {
   "cell_type": "code",
   "execution_count": 7,
   "metadata": {},
   "outputs": [
    {
     "name": "stdout",
     "output_type": "stream",
     "text": [
      "Число 7, дельта-представление: 01111\n",
      "Число 8, дельта-представление: 00100000\n",
      "Число 9, дельта-представление: 00100001\n"
     ]
    }
   ],
   "source": [
    "# дельта-кодирование\n",
    "for number in [7, 8, 9]: # 01111 00100000 00100001\n",
    "    delta_number = coder.delta_encoding(number)\n",
    "    print(f'Число {number}, дельта-представление: {delta_number}')"
   ]
  },
  {
   "cell_type": "code",
   "execution_count": 6,
   "metadata": {},
   "outputs": [
    {
     "name": "stdout",
     "output_type": "stream",
     "text": [
      "Число 344431, дельта-декодированное число: 344431\n",
      "Число 871, дельта-декодированное число: 871\n",
      "Число 324, дельта-декодированное число: 324\n",
      "Число 141, дельта-декодированное число: 141\n"
     ]
    }
   ],
   "source": [
    "# дельта-декодирование\n",
    "for number in [344431, 871, 324, 141]: \n",
    "    delta_decoded_number = coder.delta_decoding(coder.delta_encoding(number))\n",
    "    print(f'Число {number}, дельта-декодированное число: {delta_decoded_number}')"
   ]
  },
  {
   "cell_type": "markdown",
   "metadata": {},
   "source": [
    "## Тестирование сжатия индекса\n",
    "- после сжатия ссылки на документы стали закодированными\n",
    "- размер индекса уменьшился"
   ]
  },
  {
   "cell_type": "code",
   "execution_count": 19,
   "metadata": {},
   "outputs": [
    {
     "name": "stdout",
     "output_type": "stream",
     "text": [
      "До сжатия размер в КБ: 11.7734375\n",
      "математик : [1]\n",
      "это : [1]\n",
      "наука : [1]\n"
     ]
    }
   ],
   "source": [
    "# индекс до сжатия\n",
    "index_test_orig = index_test.get_index()\n",
    "\n",
    "print('До сжатия размер в КБ:', asizeof.asizeof(index_test_orig) / 1024)\n",
    "for i, key in enumerate(index_test_orig.keys()):\n",
    "    if i == 3: break\n",
    "    print(key, ':', index_test_orig[key])"
   ]
  },
  {
   "cell_type": "code",
   "execution_count": 20,
   "metadata": {},
   "outputs": [
    {
     "name": "stdout",
     "output_type": "stream",
     "text": [
      "После gamma-сжатия размер в КБ: 11.4609375\n",
      "математик : bitarray('1')\n",
      "это : bitarray('1')\n",
      "наука : bitarray('1')\n"
     ]
    }
   ],
   "source": [
    "index_test.compress_index(method='gamma')\n",
    "\n",
    "# индекс после сжатия\n",
    "index_test_gamma = index_test.get_index()\n",
    "print('После gamma-сжатия размер в КБ:', asizeof.asizeof(index_test_gamma) / 1024)\n",
    "for i, key in enumerate(index_test_gamma.keys()):\n",
    "    if i == 3: break\n",
    "    print(key, ':', index_test_gamma[key])"
   ]
  },
  {
   "cell_type": "code",
   "execution_count": 6,
   "metadata": {},
   "outputs": [
    {
     "data": {
      "text/plain": [
       "bitarray('0001111')"
      ]
     },
     "execution_count": 6,
     "metadata": {},
     "output_type": "execute_result"
    }
   ],
   "source": [
    "from bitarray import bitarray\n",
    "\n",
    "coder = EliasCoder()\n",
    "b = bitarray(coder.gamma_encoding(15))\n",
    "b"
   ]
  },
  {
   "cell_type": "code",
   "execution_count": 10,
   "metadata": {},
   "outputs": [
    {
     "data": {
      "text/plain": [
       "'0001111'"
      ]
     },
     "execution_count": 10,
     "metadata": {},
     "output_type": "execute_result"
    }
   ],
   "source": [
    "b.to01()"
   ]
  },
  {
   "cell_type": "code",
   "execution_count": null,
   "metadata": {},
   "outputs": [],
   "source": []
  }
 ],
 "metadata": {
  "kernelspec": {
   "display_name": "venv",
   "language": "python",
   "name": "python3"
  },
  "language_info": {
   "codemirror_mode": {
    "name": "ipython",
    "version": 3
   },
   "file_extension": ".py",
   "mimetype": "text/x-python",
   "name": "python",
   "nbconvert_exporter": "python",
   "pygments_lexer": "ipython3",
   "version": "3.10.12"
  }
 },
 "nbformat": 4,
 "nbformat_minor": 2
}
